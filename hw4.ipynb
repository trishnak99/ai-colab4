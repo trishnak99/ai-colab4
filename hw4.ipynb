{
  "nbformat": 4,
  "nbformat_minor": 0,
  "metadata": {
    "colab": {
      "name": "hw4.ipynb",
      "provenance": [],
      "include_colab_link": true
    },
    "kernelspec": {
      "name": "python3",
      "display_name": "Python 3"
    }
  },
  "cells": [
    {
      "cell_type": "markdown",
      "metadata": {
        "id": "view-in-github",
        "colab_type": "text"
      },
      "source": [
        "<a href=\"https://colab.research.google.com/github/trishnak99/ai-colab4/blob/master/hw4.ipynb\" target=\"_parent\"><img src=\"https://colab.research.google.com/assets/colab-badge.svg\" alt=\"Open In Colab\"/></a>"
      ]
    },
    {
      "cell_type": "markdown",
      "metadata": {
        "id": "i7fMvU66rG96",
        "colab_type": "text"
      },
      "source": [
        "All of the information in this notebook derived from the resources posted in Dr. Wocjan's GitHub"
      ]
    },
    {
      "cell_type": "markdown",
      "metadata": {
        "id": "MoHK2ic1phqF",
        "colab_type": "text"
      },
      "source": [
        "##General concepts"
      ]
    },
    {
      "cell_type": "markdown",
      "metadata": {
        "id": "O4BiqQszpzVj",
        "colab_type": "text"
      },
      "source": [
        "###What is artificial intelligence\n",
        "There are many definitions of artificial intelligence, but essentially it describe a machine and its capability to demonstrate intelligent behavior of humans, such as visual perception, decision-making, and speech recognition.\n",
        "\n",
        "Artificial intelligence systems are propvided with input and rules in order to produce output."
      ]
    },
    {
      "cell_type": "markdown",
      "metadata": {
        "id": "CdicVE5wp8km",
        "colab_type": "text"
      },
      "source": [
        "###Machine learning\n",
        "Machine learning is a dynamic subset of artificial intelligence in that it does not requires human intervention to make certain changes.\n",
        "\n",
        "Machine learning systems are provided input (training data or features) and output (labels) in order to produce rules. In other words, the systems determine the patterns and improve upon them with numerous inputs and outputs. These patterns constitute as the model, which is the relationship between the feature and the labels. This model can then serve as predictions for new data. This essentially creates a neural network.\n",
        "\n",
        "There are at least two types of machine learning: supervised learning and unsupervised learning:\n",
        "*   Supervised learning is where a model is provided with labeled training data.\n",
        "*   Unsupervised learning is where a model is provided with unlabeled training data."
      ]
    },
    {
      "cell_type": "markdown",
      "metadata": {
        "id": "5jbaObGkqBUT",
        "colab_type": "text"
      },
      "source": [
        "###Deep Learning\n",
        "Deep Learning is a subset of machine learning that deals with unsupervised learning. An application of deep learning is convolutional neural networks."
      ]
    },
    {
      "cell_type": "markdown",
      "metadata": {
        "id": "Nd58J-HhK_p2",
        "colab_type": "text"
      },
      "source": [
        "###Neural Network Diagram\n",
        "\n",
        "The following diagram of a neural netowrk is a good depiction of what occurs (taken from Dr. Wocjan's GitHub)\n",
        "\n",
        "\n",
        "```\n",
        "                              Input X\n",
        "                                |\n",
        "                                V\n",
        "+-----------+       +-------------------------+\n",
        "|  Weights  |  -->  |          Layer          |\n",
        "+-----------+       |  (data transformation)  |\n",
        "                    +-------------------------+\n",
        "                                |\n",
        "                                V\n",
        "+-----------+       +-------------------------+\n",
        "|  Weights  |  -->  |          Layer          |\n",
        "+-----------+       |  (data transformation)  |\n",
        "      ^             +-------------------------+                         \n",
        "      | update                  |\n",
        "      | weight                  V\n",
        "      |                 +---------------+              +----------------+\n",
        "      |                 |  Predictions  |              |  True targets  |\n",
        "      |                 |      ^y       |              |       y        |\n",
        "      |                 +---------------+              +----------------+\n",
        "      |                         |                             |\n",
        "      |                         |     +-----------------+     |\n",
        "      |                         +---->|  Loss function  |<----+\n",
        "+-------------+                       +-----------------+\n",
        "|  Optimizer  |                                |\n",
        "+-------------+                                |\n",
        "      ^                                        V\n",
        "      |                                +--------------+      \n",
        "      +--------------------------- ----|  Loss score  |\n",
        "                                       +--------------+\n",
        "```\n",
        "\n"
      ]
    },
    {
      "cell_type": "markdown",
      "metadata": {
        "id": "nzzMDbTIpoay",
        "colab_type": "text"
      },
      "source": [
        "##Building a model"
      ]
    },
    {
      "cell_type": "markdown",
      "metadata": {
        "id": "tVZhKtiQqd--",
        "colab_type": "text"
      },
      "source": [
        "###Linear regression and gradient descent\n",
        "One of the basic ideas to keep in mind when building a model is the linear regression relationship when graphing, since it predicts continuous values. Similar to a linear equation of y = mx + b, linear regression using an equation similar to ŷ = w1x1 + b, where w1 is the weight and b is the bias term. ŷ in this case refers to the predicted label outcome.\n",
        "\n",
        "Gradient descent refers to the optimization, or minimization, of a function. In other words, it is used to find the minimum of a function. In our first homework, we demonstrated graphs of functions which use local minimums, local maximums, and saddle points. Those minimums are found in the machine learning model using gradient descent in order to update the weight and bias. The idea is to perform linear regression using a batch of features to calculate the gradient throughout a single or multiple iterations.\n",
        "\n",
        "There are three types of gradient descent.\n",
        "\n",
        "Stochastic gradient descent uses only one example (i.e. a batch size of 1) per iteration to calculate the gradient.\n",
        "\n",
        "Batch gradient descent uses all of the examples provided to calculate the gradient.\n",
        "\n",
        "Mini-batch stochastic gradient descent uses anywhere from 10 to 1000 exampels to calculate gradient descent."
      ]
    },
    {
      "cell_type": "markdown",
      "metadata": {
        "id": "74F5CxMcTqC9",
        "colab_type": "text"
      },
      "source": [
        "###Setting up the model in Python"
      ]
    },
    {
      "cell_type": "markdown",
      "metadata": {
        "id": "2WkNgtNnNbG3",
        "colab_type": "text"
      },
      "source": [
        "The following imports below are important building and training the model, visualizing the data, and analyzing the data."
      ]
    },
    {
      "cell_type": "code",
      "metadata": {
        "id": "Qg4WpGBr-9XM",
        "colab_type": "code",
        "colab": {}
      },
      "source": [
        "import matplotlib.pyplot as plt\n",
        "import numpy as np\n",
        "import tensorflow as tf\n",
        "from tensorflow import keras"
      ],
      "execution_count": 0,
      "outputs": []
    },
    {
      "cell_type": "markdown",
      "metadata": {
        "id": "GMr4l84bWdPz",
        "colab_type": "text"
      },
      "source": [
        "###Activation functions\n",
        "\n",
        "Activation functions are usually meant to add non-linearity to the output by calculating weighted sums with biases.\n",
        "\n",
        "Several activation functions are used in this class, including softmax, ReLu, and sigmoid.\n",
        "\n",
        "Sigmoid is f(x) = 1/ (1 + e^-x)\n",
        "\n",
        "ReLu is f(x) = max(0,x)\n",
        "\n",
        "Softmax is usually used in the output layer of a model and results in the probability distribution of several potential outputs."
      ]
    },
    {
      "cell_type": "markdown",
      "metadata": {
        "id": "_IQSIAJ1b47U",
        "colab_type": "text"
      },
      "source": [
        "###Other features of building models\n",
        "\n",
        "One is adjusting the learning rate. If the learning rate is too large, a large amount of data will be missed in the prediction. If the learning rate is too small, the rate of training will be very slow, as too much data will be considered.\n",
        "\n",
        "Modifying the batch size means adjusting the number of features to be used in each cycle of the model.\n",
        "\n",
        "Adding dropout layers allows the model to disregard some data from each layer. For example, if a Dropout is set as 0.25, 25% of the inputs from layer before it will be randomly excluded from getting passed to the next layer.\n",
        "\n",
        "Data augmentation is a technique that can be used to include additional data regarding the training dataset. Examples of this include adding measurements of areas in the image and determining the number of white regions in an image."
      ]
    },
    {
      "cell_type": "markdown",
      "metadata": {
        "id": "O4YFhl-UKoUF",
        "colab_type": "text"
      },
      "source": [
        "###Sequential neural networks\n",
        "\n",
        "Sequential neural networks are created using dense layers. \n",
        "\n",
        "An example is shown below of how it would look in Python."
      ]
    },
    {
      "cell_type": "code",
      "metadata": {
        "id": "_rKqA72CUBxo",
        "colab_type": "code",
        "colab": {}
      },
      "source": [
        "model = keras.Sequential([\n",
        "    keras.layers.Flatten(input_shape=(28, 28)),\n",
        "    keras.layers.Dense(64, activation=tf.nn.relu),\n",
        "    keras.layers.Dropout(0.21),\n",
        "    keras.layers.Dense(128, activation=tf.nn.relu),\n",
        "    keras.layers.Dropout(0.22),\n",
        "    keras.layers.Dense(256, activation=tf.nn.relu),\n",
        "    keras.layers.Dropout(0.23),\n",
        "    keras.layers.Dense(10, activation=tf.nn.softmax)\n",
        "])"
      ],
      "execution_count": 0,
      "outputs": []
    },
    {
      "cell_type": "markdown",
      "metadata": {
        "id": "nReP2dP5Ksbm",
        "colab_type": "text"
      },
      "source": [
        "###Convolutional neural networks\n",
        "\n",
        "Convolutional neural networks are created using several types of layers. and primarily use ReLu activation.\n",
        "\n",
        "In a basic convolutional neural network, Conv2D layers are followed by MaxPooling2D layers, and it continues in this pattern. The Conv2D layers perform a convlution to create several feature maps from the images. The MaxPooling2D layers then perform subsampling by using filter windows across the feature maps to get a single value for each window.\n",
        "\n",
        "Then the layers are flattened to a single vector. A normal dense layer is then added to fully connect the neurons in the layers. \n",
        "\n",
        "Finally, an output layer is also added that uses softmax activation to create the probability distribution.\n",
        "\n",
        "An example is shown below."
      ]
    },
    {
      "cell_type": "code",
      "metadata": {
        "id": "sxROiW2fbpFz",
        "colab_type": "code",
        "colab": {}
      },
      "source": [
        "model = keras.Sequential([\n",
        "    keras.layers.Conv2D(32, (3, 3), activation='relu', kernel_initializer='he_uniform', padding='same', input_shape=(32, 32, 3)),\n",
        "    keras.layers.Conv2D(32, (3, 3), activation='relu', kernel_initializer='he_uniform', padding='same'),\n",
        "    keras.layers.MaxPooling2D((2, 2)),\n",
        "    keras.layers.Dropout(0.23),\n",
        "    keras.layers.Conv2D(64, (3, 3), activation='relu', kernel_initializer='he_uniform', padding='same'),\n",
        "    keras.layers.Conv2D(64, (3, 3), activation='relu', kernel_initializer='he_uniform', padding='same'),\n",
        "    keras.layers.MaxPooling2D((2, 2)),\n",
        "    keras.layers.Dropout(0.36),\n",
        "    keras.layers.Flatten(),\n",
        "    keras.layers.Dense(128, activation='relu', kernel_initializer='he_uniform'),\n",
        "    keras.layers.Dense(10, activation='softmax')\n",
        "])"
      ],
      "execution_count": 0,
      "outputs": []
    },
    {
      "cell_type": "markdown",
      "metadata": {
        "id": "Zx-Sje3xpq5w",
        "colab_type": "text"
      },
      "source": [
        "##Comping a model\n",
        "\n",
        "When compiling a model, there are some things to consider: optimizers, loss, and metrics. These affect the learning rate and how output is produced and represented.\n",
        "\n",
        "Optimizers include stochastic gradient descent and RMSprop.\n",
        "\n",
        "Loss refers to the type of error that the model considers, such as mean squared error, or sparse categorical cross-entropy.\n",
        "\n",
        "Metrics are used to analyze the performance of a model and can vary. In this class, we mainly used accuracy."
      ]
    },
    {
      "cell_type": "markdown",
      "metadata": {
        "id": "KbJnxoGTps4O",
        "colab_type": "text"
      },
      "source": [
        "##Training a model"
      ]
    },
    {
      "cell_type": "markdown",
      "metadata": {
        "id": "HAhJmjVLyxjU",
        "colab_type": "text"
      },
      "source": [
        "The goal when training a model is to mazimize the accuracy and minimize the loss as much as possible. Training a model involves starting with a guess for the weights and bias, and adjusting these values until the lowest loss is obtained. \n",
        "\n",
        "In Python, this invovles setting a number of epochs and steps per epoch in order to tell the program how many times to run the model. Training the model too many times and training the model too little times can both be bad.\n",
        "\n",
        "With this comes the concepts of underfitting and overfitting. \n",
        "\n",
        "Underfitting is when the training accuracy and the testing accuracy are both low.\n",
        "\n",
        "Overfitting is when the training accuracy is higher than the testing accuracy."
      ]
    },
    {
      "cell_type": "markdown",
      "metadata": {
        "id": "D3GDEzKfCFA9",
        "colab_type": "text"
      },
      "source": [
        "Below is an example of underfitting"
      ]
    },
    {
      "cell_type": "code",
      "metadata": {
        "id": "xdFt73pXTG3f",
        "colab_type": "code",
        "outputId": "0c146da1-e392-496c-ac13-6519c6107438",
        "colab": {
          "base_uri": "https://localhost:8080/",
          "height": 408
        }
      },
      "source": [
        "# set up the layers\n",
        "\n",
        "model = keras.Sequential([\n",
        "    keras.layers.Flatten(input_shape=(28, 28)),\n",
        "    keras.layers.Dense(5, activation=tf.nn.relu),\n",
        "    keras.layers.Dense(10, activation=tf.nn.softmax),\n",
        "    keras.layers.Dropout(0.35)\n",
        "    \n",
        "])\n",
        "\n",
        "# compile the model\n",
        "\n",
        "model.compile(optimizer='adam',\n",
        "             loss='sparse_categorical_crossentropy',\n",
        "             metrics=['accuracy'])\n",
        "\n",
        "# train the model\n",
        "epochs = 10\n",
        "history = model.fit(train_images, \n",
        "                      train_labels, \n",
        "                      epochs=epochs,  \n",
        "                      validation_data=(test_images, test_labels))\n",
        "\n",
        "test_loss, test_acc = model.evaluate(test_images, test_labels)\n",
        "\n",
        "print('Test accuracy:', test_acc)"
      ],
      "execution_count": 0,
      "outputs": [
        {
          "output_type": "stream",
          "text": [
            "Train on 60000 samples, validate on 10000 samples\n",
            "Epoch 1/10\n",
            "60000/60000 [==============================] - 7s 110us/sample - loss: 5.3385 - acc: 0.3893 - val_loss: 1.8864 - val_acc: 0.5902\n",
            "Epoch 2/10\n",
            "60000/60000 [==============================] - 7s 111us/sample - loss: 4.3258 - acc: 0.4563 - val_loss: 1.8772 - val_acc: 0.6206\n",
            "Epoch 3/10\n",
            "60000/60000 [==============================] - 7s 109us/sample - loss: 4.1869 - acc: 0.4683 - val_loss: 1.8321 - val_acc: 0.6345\n",
            "Epoch 4/10\n",
            "60000/60000 [==============================] - 7s 110us/sample - loss: 4.0674 - acc: 0.4825 - val_loss: 1.8378 - val_acc: 0.6435\n",
            "Epoch 5/10\n",
            "60000/60000 [==============================] - 7s 109us/sample - loss: 3.9901 - acc: 0.4886 - val_loss: 1.7683 - val_acc: 0.6697\n",
            "Epoch 6/10\n",
            "60000/60000 [==============================] - 6s 108us/sample - loss: 3.9386 - acc: 0.4976 - val_loss: 1.7619 - val_acc: 0.6809\n",
            "Epoch 7/10\n",
            "60000/60000 [==============================] - 7s 116us/sample - loss: 3.8745 - acc: 0.5066 - val_loss: 1.7404 - val_acc: 0.6967\n",
            "Epoch 8/10\n",
            "60000/60000 [==============================] - 6s 108us/sample - loss: 3.8067 - acc: 0.5134 - val_loss: 1.8490 - val_acc: 0.6983\n",
            "Epoch 9/10\n",
            "60000/60000 [==============================] - 7s 111us/sample - loss: 3.7236 - acc: 0.5167 - val_loss: 1.7915 - val_acc: 0.7145\n",
            "Epoch 10/10\n",
            "60000/60000 [==============================] - 6s 108us/sample - loss: 3.6733 - acc: 0.5214 - val_loss: 1.8122 - val_acc: 0.7177\n",
            "10000/10000 [==============================] - 1s 69us/sample - loss: 1.8122 - acc: 0.7177\n",
            "Test accuracy: 0.7177\n"
          ],
          "name": "stdout"
        }
      ]
    },
    {
      "cell_type": "code",
      "metadata": {
        "colab_type": "code",
        "id": "A7MhUv6JUayU",
        "outputId": "8ac57342-d798-4bec-b9cc-45ad0609fe38",
        "colab": {
          "base_uri": "https://localhost:8080/",
          "height": 573
        }
      },
      "source": [
        "def graphAcc(history):\n",
        "  history_dict = history.history\n",
        "  acc_values = history_dict['acc']\n",
        "  test_acc_values = history_dict['val_acc']\n",
        "  epochs_range = range(1, epochs+1)\n",
        "\n",
        "  plt.plot(epochs_range, acc_values, 'bo', label='Training accuracy')\n",
        "  plt.plot(epochs_range, test_acc_values, 'ro', label='Test accuracy')\n",
        "  plt.title('Training and test accuracy')\n",
        "  plt.xlabel('Epochs')\n",
        "  plt.ylabel('Accuracy')\n",
        "  plt.legend()\n",
        "  plt.show()\n",
        "\n",
        "def graphLoss(history):\n",
        "  history_dict = history.history\n",
        "  loss_values = history_dict['loss']\n",
        "  test_loss_values = history_dict['val_loss']\n",
        "  epochs_range = range(1, epochs + 1)\n",
        "  \n",
        "  plt.plot(epochs_range, loss_values, 'bo', label='Training loss')\n",
        "  plt.plot(epochs_range, test_loss_values, 'ro', label='Test loss')\n",
        "  plt.title('Training and test loss')\n",
        "  plt.xlabel('Epochs')\n",
        "  plt.ylabel('Loss')\n",
        "  plt.legend()\n",
        "  plt.show()\n",
        "\n",
        "graphAcc(history)\n",
        "graphLoss(history)"
      ],
      "execution_count": 0,
      "outputs": [
        {
          "output_type": "display_data",
          "data": {
            "image/png": "[encoded data removed]",
            "text/plain": [
              "<Figure size 432x288 with 1 Axes>"
            ]
          },
          "metadata": {
            "tags": []
          }
        },
        {
          "output_type": "display_data",
          "data": {
            "image/png": "[encoded data removed]",
            "text/plain": [
              "<Figure size 432x288 with 1 Axes>"
            ]
          },
          "metadata": {
            "tags": []
          }
        }
      ]
    },
    {
      "cell_type": "markdown",
      "metadata": {
        "id": "N_eNokE9CC-D",
        "colab_type": "text"
      },
      "source": [
        "Below is an example of overfitting"
      ]
    },
    {
      "cell_type": "code",
      "metadata": {
        "id": "7Qaw8_7wHzQ4",
        "colab_type": "code",
        "outputId": "4fb443d5-12ae-4c5c-85cf-0c28b0388a3c",
        "colab": {
          "base_uri": "https://localhost:8080/",
          "height": 748
        }
      },
      "source": [
        "# set up the layers\n",
        "\n",
        "model = keras.Sequential([\n",
        "    keras.layers.Flatten(input_shape=(28, 28)),\n",
        "    keras.layers.Dense(128*4, activation=tf.nn.relu),\n",
        "    keras.layers.Dense(10, activation=tf.nn.softmax)\n",
        "])\n",
        "\n",
        "# compile the model\n",
        "\n",
        "model.compile(optimizer='adam',\n",
        "             loss='sparse_categorical_crossentropy',\n",
        "             metrics=['accuracy'])\n",
        "\n",
        "# train the model\n",
        "epochs = 20\n",
        "history = model.fit(train_images, \n",
        "                      train_labels, \n",
        "                      epochs=epochs,  \n",
        "                      validation_data=(test_images, test_labels))\n",
        "\n",
        "test_loss, test_acc = model.evaluate(test_images, test_labels)\n",
        "\n",
        "print('Test accuracy:', test_acc)"
      ],
      "execution_count": 0,
      "outputs": [
        {
          "output_type": "stream",
          "text": [
            "Train on 60000 samples, validate on 10000 samples\n",
            "Epoch 1/20\n",
            "60000/60000 [==============================] - 7s 114us/sample - loss: 0.4729 - acc: 0.8313 - val_loss: 0.4120 - val_acc: 0.8523\n",
            "Epoch 2/20\n",
            "60000/60000 [==============================] - 7s 109us/sample - loss: 0.3602 - acc: 0.8683 - val_loss: 0.3764 - val_acc: 0.8669\n",
            "Epoch 3/20\n",
            "60000/60000 [==============================] - 7s 110us/sample - loss: 0.3208 - acc: 0.8827 - val_loss: 0.3821 - val_acc: 0.8553\n",
            "Epoch 4/20\n",
            "60000/60000 [==============================] - 7s 110us/sample - loss: 0.2984 - acc: 0.8901 - val_loss: 0.3568 - val_acc: 0.8756\n",
            "Epoch 5/20\n",
            "60000/60000 [==============================] - 7s 111us/sample - loss: 0.2806 - acc: 0.8953 - val_loss: 0.3395 - val_acc: 0.8752\n",
            "Epoch 6/20\n",
            "60000/60000 [==============================] - 7s 111us/sample - loss: 0.2666 - acc: 0.9001 - val_loss: 0.3188 - val_acc: 0.8879\n",
            "Epoch 7/20\n",
            "60000/60000 [==============================] - 7s 112us/sample - loss: 0.2532 - acc: 0.9059 - val_loss: 0.3409 - val_acc: 0.8817\n",
            "Epoch 8/20\n",
            "60000/60000 [==============================] - 7s 110us/sample - loss: 0.2422 - acc: 0.9100 - val_loss: 0.3680 - val_acc: 0.8759\n",
            "Epoch 9/20\n",
            "60000/60000 [==============================] - 7s 110us/sample - loss: 0.2325 - acc: 0.9132 - val_loss: 0.3648 - val_acc: 0.8754\n",
            "Epoch 10/20\n",
            "60000/60000 [==============================] - 7s 111us/sample - loss: 0.2202 - acc: 0.9167 - val_loss: 0.3234 - val_acc: 0.8908\n",
            "Epoch 11/20\n",
            "60000/60000 [==============================] - 7s 111us/sample - loss: 0.2122 - acc: 0.9199 - val_loss: 0.3277 - val_acc: 0.8908\n",
            "Epoch 12/20\n",
            "60000/60000 [==============================] - 6s 107us/sample - loss: 0.2061 - acc: 0.9236 - val_loss: 0.3315 - val_acc: 0.8910\n",
            "Epoch 13/20\n",
            "60000/60000 [==============================] - 6s 108us/sample - loss: 0.1982 - acc: 0.9263 - val_loss: 0.3387 - val_acc: 0.8881\n",
            "Epoch 14/20\n",
            "60000/60000 [==============================] - 6s 108us/sample - loss: 0.1907 - acc: 0.9297 - val_loss: 0.3214 - val_acc: 0.8955\n",
            "Epoch 15/20\n",
            "60000/60000 [==============================] - 7s 109us/sample - loss: 0.1845 - acc: 0.9307 - val_loss: 0.3545 - val_acc: 0.8877\n",
            "Epoch 16/20\n",
            "60000/60000 [==============================] - 6s 106us/sample - loss: 0.1781 - acc: 0.9331 - val_loss: 0.3747 - val_acc: 0.8804\n",
            "Epoch 17/20\n",
            "60000/60000 [==============================] - 7s 110us/sample - loss: 0.1725 - acc: 0.9351 - val_loss: 0.3309 - val_acc: 0.8951\n",
            "Epoch 18/20\n",
            "60000/60000 [==============================] - 6s 108us/sample - loss: 0.1654 - acc: 0.9366 - val_loss: 0.3673 - val_acc: 0.8871\n",
            "Epoch 19/20\n",
            "60000/60000 [==============================] - 7s 112us/sample - loss: 0.1636 - acc: 0.9383 - val_loss: 0.3883 - val_acc: 0.8826\n",
            "Epoch 20/20\n",
            "60000/60000 [==============================] - 7s 112us/sample - loss: 0.1569 - acc: 0.9402 - val_loss: 0.3596 - val_acc: 0.8909\n",
            "10000/10000 [==============================] - 1s 66us/sample - loss: 0.3596 - acc: 0.8909\n",
            "Test accuracy: 0.8909\n"
          ],
          "name": "stdout"
        }
      ]
    },
    {
      "cell_type": "code",
      "metadata": {
        "colab_type": "code",
        "id": "vFA9yfTcUCjy",
        "outputId": "54a3de14-19a0-462f-b7fc-a11d5cd681e5",
        "colab": {
          "base_uri": "https://localhost:8080/",
          "height": 573
        }
      },
      "source": [
        "def graphAcc(history):\n",
        "  history_dict = history.history\n",
        "  acc_values = history_dict['acc']\n",
        "  test_acc_values = history_dict['val_acc']\n",
        "  epochs_range = range(1, epochs+1)\n",
        "\n",
        "  plt.plot(epochs_range, acc_values, 'bo', label='Training accuracy')\n",
        "  plt.plot(epochs_range, test_acc_values, 'ro', label='Test accuracy')\n",
        "  plt.title('Training and test accuracy')\n",
        "  plt.xlabel('Epochs')\n",
        "  plt.ylabel('Accuracy')\n",
        "  plt.legend()\n",
        "  plt.show()\n",
        "\n",
        "def graphLoss(history):\n",
        "  history_dict = history.history\n",
        "  loss_values = history_dict['loss']\n",
        "  test_loss_values = history_dict['val_loss']\n",
        "  epochs_range = range(1, epochs + 1)\n",
        "  \n",
        "  plt.plot(epochs_range, loss_values, 'bo', label='Training loss')\n",
        "  plt.plot(epochs_range, test_loss_values, 'ro', label='Test loss')\n",
        "  plt.title('Training and test loss')\n",
        "  plt.xlabel('Epochs')\n",
        "  plt.ylabel('Loss')\n",
        "  plt.legend()\n",
        "  plt.show()\n",
        "  \n",
        "graphAcc(history)\n",
        "graphLoss(history)"
      ],
      "execution_count": 0,
      "outputs": [
        {
          "output_type": "display_data",
          "data": {
            "image/png": "[encoded data removed]",
            "text/plain": [
              "<Figure size 432x288 with 1 Axes>"
            ]
          },
          "metadata": {
            "tags": []
          }
        },
        {
          "output_type": "display_data",
          "data": {
            "image/png": "[encoded data removed]",
            "text/plain": [
              "<Figure size 432x288 with 1 Axes>"
            ]
          },
          "metadata": {
            "tags": []
          }
        }
      ]
    },
    {
      "cell_type": "markdown",
      "metadata": {
        "id": "8yyBlvcPpvEc",
        "colab_type": "text"
      },
      "source": [
        "##Finetuning a pretrained model\n",
        "\n",
        "When finetuning a pretrained model, there are multiple steps that should be performed.\n",
        "\n",
        "The first steps included loading the pretrained model and adding the new training layers.\n",
        "\n",
        "Next, the base network should be frozen.\n",
        "\n",
        "The added layers are then compiled and trained separately apart from the base model.\n",
        "\n",
        "The final step is to unfreeze the base network and train the based network and the added layers together."
      ]
    }
  ]
}